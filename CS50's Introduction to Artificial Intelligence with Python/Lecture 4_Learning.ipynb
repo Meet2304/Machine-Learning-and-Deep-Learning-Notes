{
 "cells": [
  {
   "cell_type": "markdown",
   "metadata": {},
   "source": [
    "# Lecture 4: Learning"
   ]
  },
  {
   "cell_type": "markdown",
   "metadata": {},
   "source": [
    "- This lecture demonstrates how to use data to train AI to achive a praticular goal. It will teach the computer to learn from experience and be able to perform a task better and better."
   ]
  },
  {
   "cell_type": "code",
   "execution_count": null,
   "metadata": {},
   "outputs": [],
   "source": []
  }
 ],
 "metadata": {
  "language_info": {
   "name": "python"
  }
 },
 "nbformat": 4,
 "nbformat_minor": 2
}
