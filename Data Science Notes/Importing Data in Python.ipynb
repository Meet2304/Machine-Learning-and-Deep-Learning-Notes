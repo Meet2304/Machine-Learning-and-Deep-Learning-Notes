{
 "cells": [
  {
   "cell_type": "markdown",
   "metadata": {},
   "source": [
    "## IMPORTING DATA IN PYTHON\n",
    "\n",
    "### 1) Plain Text Files:\n",
    "- open function is used\n",
    "- with command is called a context manager as it opens a file to perform any operations. As soon as we move out of the with statement, the file is no longer open and we do not need to use the close statement"
   ]
  },
  {
   "cell_type": "code",
   "execution_count": null,
   "metadata": {},
   "outputs": [],
   "source": [
    "# 1) Plain Text Files:\n",
    "\n",
    "# Reading from the text file\n",
    "filename = 'huck_finn.txt'\n",
    "file = open(filename, mode = 'r')   # 'r' is for read\n",
    "text = file.read()\n",
    "file.close()\n",
    "print(text)     \n",
    "\n",
    "# Writing to the text file\n",
    "filename = 'huck_finn.txt'\n",
    "file = open(filename, mode = 'w')   # 'w' is for write\n",
    "file.close()\n",
    "\n",
    "# We can avoid having to close the file by using a with statement\n",
    "with open('huck_finn.txt', 'r') as file:\n",
    "    print(file.readline())  # Reads lines from the text\n",
    "    \n",
    "\n"
   ]
  },
  {
   "cell_type": "markdown",
   "metadata": {},
   "source": [
    "### 2) Flat Files\n",
    "- Basic Text files containing table data without any structural relationships\n",
    "- They consists of records as a unique line\n",
    "- Flat files can also have a header which can be the column title\n",
    "- Delimiter: The character that seperates the values in a file is known as the delimitor. eg: in a csv, a comma is the delimiter\n"
   ]
  },
  {
   "cell_type": "code",
   "execution_count": null,
   "metadata": {},
   "outputs": [],
   "source": [
    "# 2) Flat Files\n",
    "\n",
    "# IMPORTING FLAT FILES USING NUMPY\n",
    "import numpy as np\n",
    "filename = 'MNIST.txt'\n",
    "# np.loadtxt tends to break down when we have mixed datatypes\n",
    "data = np.loadtxt(filename, delimiter = ',', skiprows = 1, usecols = [0, 2], dtype = str)\n",
    "print(data)\n",
    "\n",
    "# Assign the filename: file\n",
    "file = 'titanic.csv'\n",
    "\n",
    "# Import file using np.genfromtxt\n",
    "data = np.genfromtxt('titanic.csv', delimiter=',', names=True, dtype=None)\n",
    "\n",
    "# Import file using np.recfromcsv: d\n",
    "d = np.recfromcsv(file, delimiter = ',', names = True, dtype = None )\n",
    "\n",
    "# Print out first three entries of d\n",
    "print(d[:3])\n",
    "\n",
    "\n",
    "# IMPORTING FLAT FILES USING PANDAS\n",
    "import pandas as pd\n",
    "filename = 'winequality-red.csv'\n",
    "data = pd.read_csv(filename)\n",
    "# Converting dataframe to a numpy array\n",
    "data_array = data.values\n",
    "#Example 2:\n",
    "# Assign the filename: file\n",
    "file = 'digits.csv'\n",
    "# Read the first 5 rows of the file into a DataFrame: data\n",
    "data = pd.read_csv('digits.csv', nrows = 5, header = None)\n",
    "# Build a numpy array from the DataFrame: data_array\n",
    "data_array = data.values\n",
    "# Print the datatype of data_array to the shell\n",
    "print(type(data_array))\n",
    "\n",
    "# comment takes characters that comments occur after in the file, which in this case is '#'. \n",
    "# na_values takes a list of strings to recognize as NA/NaN, in this case the string 'Nothing'\n",
    "\n",
    "# Import matplotlib.pyplot as plt\n",
    "import matplotlib.pyplot as plt\n",
    "\n",
    "# Assign filename: file\n",
    "file = 'titanic_corrupt.txt'\n",
    "\n",
    "# Import file: data\n",
    "data = pd.read_csv(file, sep='\\t', comment='#', na_values='Nothing')\n",
    "\n",
    "# Print the head of the DataFrame\n",
    "print(data.head())\n",
    "\n",
    "# Plot 'Age' variable in a histogram\n",
    "pd.DataFrame.hist(data[['Age']])\n",
    "plt.xlabel('Age (years)')\n",
    "plt.ylabel('count')\n",
    "plt.show()\n"
   ]
  }
 ],
 "metadata": {
  "language_info": {
   "name": "python"
  }
 },
 "nbformat": 4,
 "nbformat_minor": 2
}
