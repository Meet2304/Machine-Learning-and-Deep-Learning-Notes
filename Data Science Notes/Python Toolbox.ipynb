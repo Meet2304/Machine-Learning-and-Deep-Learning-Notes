{
 "cells": [
  {
   "cell_type": "markdown",
   "metadata": {},
   "source": [
    "## Introduction to Iterators\n",
    "\n",
    "- for loop is an iterator\n",
    "- Iterables - lists, strings, dictionaries, file connections\n",
    "\n",
    "### Iterables:\n",
    "\n",
    "- an object with an associated iter() method\n",
    "- Applying iter() to an iterable creates an interator\n",
    "- Applying iter() to an iterable creates an iterator\n",
    "\n",
    "### Iterator:\n",
    "\n",
    "- An object that has an associated next() method that produces the consecutive values\n",
    "- Throws an Stop Iteration Error when there is nothing left to return\n",
    "- To iterate over dictionaries, we need to unpack them\n"
   ]
  },
  {
   "cell_type": "code",
   "execution_count": 3,
   "metadata": {},
   "outputs": [
    {
     "name": "stdout",
     "output_type": "stream",
     "text": [
      "W\n",
      "O\n",
      "R\n",
      "D\n"
     ]
    },
    {
     "ename": "StopIteration",
     "evalue": "",
     "output_type": "error",
     "traceback": [
      "\u001b[1;31m---------------------------------------------------------------------------\u001b[0m",
      "\u001b[1;31mStopIteration\u001b[0m                             Traceback (most recent call last)",
      "Cell \u001b[1;32mIn[3], line 9\u001b[0m\n\u001b[0;32m      7\u001b[0m \u001b[38;5;28mprint\u001b[39m(\u001b[38;5;28mnext\u001b[39m(it))\n\u001b[0;32m      8\u001b[0m \u001b[38;5;28mprint\u001b[39m(\u001b[38;5;28mnext\u001b[39m(it))\n\u001b[1;32m----> 9\u001b[0m \u001b[38;5;28mprint\u001b[39m(\u001b[38;5;28;43mnext\u001b[39;49m\u001b[43m(\u001b[49m\u001b[43mit\u001b[49m\u001b[43m)\u001b[49m)\n",
      "\u001b[1;31mStopIteration\u001b[0m: "
     ]
    }
   ],
   "source": [
    "# ITERATORS:\n",
    "\n",
    "Word = \"WORD\"\n",
    "it = iter(Word)\n",
    "print(next(it))\n",
    "print(next(it))\n",
    "print(next(it))\n",
    "print(next(it))\n",
    "print(next(it))\n"
   ]
  },
  {
   "cell_type": "code",
   "execution_count": 5,
   "metadata": {},
   "outputs": [
    {
     "name": "stdout",
     "output_type": "stream",
     "text": [
      "W O R D\n"
     ]
    }
   ],
   "source": [
    "# ITERATING AT ONCE WITH *\n",
    "\n",
    "Word = \"WORD\"\n",
    "it = iter(Word)\n",
    "print(*it)"
   ]
  },
  {
   "cell_type": "code",
   "execution_count": 6,
   "metadata": {},
   "outputs": [
    {
     "name": "stdout",
     "output_type": "stream",
     "text": [
      "hugo bowne-anderson\n",
      "francis castro\n"
     ]
    }
   ],
   "source": [
    "# ITERATING OVER DICTIONARIES:\n",
    "\n",
    "pythonistas = {'hugo':'bowne-anderson', 'francis':'castro'}\n",
    "for key, value in pythonistas.items():\n",
    "    print(key, value)"
   ]
  },
  {
   "cell_type": "code",
   "execution_count": null,
   "metadata": {},
   "outputs": [],
   "source": [
    "# ITERATING OVER FILE CONNECTIONS:\n",
    "file = open('file.txt')\n",
    "it = iter(file)\n",
    "print(next(it))   # The next function returns the next line from the file"
   ]
  },
  {
   "cell_type": "markdown",
   "metadata": {},
   "source": [
    "### Enumerate:\n",
    "\n",
    "- Enumerate takes any iterable as an argument and returns a special enumerate object which consists of pairs consisting the elements of the orignal iterable along with their index \n",
    "- Enumerate object is also an iterable "
   ]
  },
  {
   "cell_type": "code",
   "execution_count": 10,
   "metadata": {},
   "outputs": [
    {
     "name": "stdout",
     "output_type": "stream",
     "text": [
      "<class 'enumerate'>\n",
      "[(0, 'hawkeye'), (1, 'iron man'), (2, 'thor'), (3, 'quicksilver')]\n",
      "0 hawkeye\n",
      "1 iron man\n",
      "2 thor\n",
      "3 quicksilver\n",
      "10 hawkeye\n",
      "11 iron man\n",
      "12 thor\n",
      "13 quicksilver\n"
     ]
    }
   ],
   "source": [
    "# ENUMERATE\n",
    "\n",
    "avengers = ['hawkeye', 'iron man', 'thor', 'quicksilver']\n",
    "e = enumerate(avengers)\n",
    "print(type(e))\n",
    "e_list = list(e)\n",
    "print(e_list)\n",
    "\n",
    "# Unpacking an enumerate object:\n",
    "for index, value in enumerate(avengers):\n",
    "    print(index, value)\n",
    "\n",
    "# Changing Indexing of enumerate object\n",
    "for index, value in enumerate(avengers, start = 10):\n",
    "    print(index, value)\n"
   ]
  },
  {
   "cell_type": "markdown",
   "metadata": {},
   "source": [
    "### Zip()\n",
    "\n",
    "- Accepts an arbitary number of iterables and returns an iterator of tuples\n"
   ]
  },
  {
   "cell_type": "code",
   "execution_count": 14,
   "metadata": {},
   "outputs": [
    {
     "name": "stdout",
     "output_type": "stream",
     "text": [
      "<class 'zip'>\n",
      "[('hawkeye', 'barton'), ('iron man', 'stark'), ('thor', 'odinson'), ('quicksilver', 'maximoff')]\n",
      "hawkeye barton\n",
      "iron man stark\n",
      "thor odinson\n",
      "quicksilver maximoff\n",
      "('hawkeye', 'barton') ('iron man', 'stark') ('thor', 'odinson') ('quicksilver', 'maximoff')\n"
     ]
    }
   ],
   "source": [
    "# ZIP\n",
    "\n",
    "avengers = ['hawkeye', 'iron man', 'thor', 'quicksilver']\n",
    "names = ['barton', 'stark', 'odinson', 'maximoff']\n",
    "z = zip(avengers, names)\n",
    "print(type(z))\n",
    "\n",
    "z_list = list(z)\n",
    "print(z_list)\n",
    "\n",
    "# Using for loop to iterate over zipped objects:\n",
    "\n",
    "for z1, z2 in zip(avengers, names):\n",
    "    print(z1, z2)\n",
    "\n",
    "# Printing all elements using *(Splat Operator)\n",
    "z = zip(avengers, names)\n",
    "print(*z)"
   ]
  },
  {
   "cell_type": "markdown",
   "metadata": {},
   "source": [
    "### Using Iterators to load large files into memory \n",
    "\n",
    "- There can be too much data to hold in memory\n",
    "- Solution: \n",
    "1) Load the data in chunks\n",
    "2) perform the desired operations\n",
    "3) Store the result\n",
    "4) Discard the chunk\n",
    "5) Load in the next chunk of data\n",
    "\n",
    "- pandas method read_csv() allows us to load data in chunks. It has an argument 'chunksize' to determine the size of the chunks."
   ]
  },
  {
   "cell_type": "code",
   "execution_count": null,
   "metadata": {},
   "outputs": [],
   "source": [
    "# USING ITERATORS TO LOAD FILES INTO MEMORY:\n",
    "\n",
    "import pandas as pd\n",
    "result = []\n",
    "for chunk in pd.read_csv('data.csv', chunksize=1000):\n",
    "    result.append(sum(chunk['x']))\n",
    "total = sum(result)\n",
    "print(total)\n"
   ]
  },
  {
   "attachments": {
    "image.png": {
     "image/png": "[encoded data removed]"
    }
   },
   "cell_type": "markdown",
   "metadata": {},
   "source": [
    "### List Comprehensions:\n",
    "\n",
    "- Allows us to create lists from other lists, DataFrames Columns, etc.\n",
    "\n",
    "![image.png](attachment:image.png)\n"
   ]
  },
  {
   "cell_type": "code",
   "execution_count": 4,
   "metadata": {},
   "outputs": [
    {
     "name": "stdout",
     "output_type": "stream",
     "text": [
      "[13, 9, 22, 4, 17]\n",
      "[0, 1, 2, 3, 4, 5, 6, 7, 8, 9, 10]\n",
      "[(0, 6), (0, 7), (1, 6), (1, 7)]\n"
     ]
    }
   ],
   "source": [
    "# LIST COMPREHENSION\n",
    "\n",
    "nums = [12, 8, 21, 3, 16]\n",
    "new_nums = [num + 1 for num in nums]\n",
    "print(new_nums)\n",
    "\n",
    "# LIST COMPREHENSION USING RANGE\n",
    "\n",
    "new_nums = [num for num in range(11)]\n",
    "print(new_nums)\n",
    "\n",
    "# NESTED LOOPS USING LIST COMPREHENSION:\n",
    "pairs2 = [(num1, num2) for num1 in range(0, 2 )for num2 in range(6, 8)]\n",
    "print(pairs2)"
   ]
  },
  {
   "cell_type": "markdown",
   "metadata": {},
   "source": [
    "### Advanced Comprehensions:"
   ]
  },
  {
   "cell_type": "code",
   "execution_count": 7,
   "metadata": {},
   "outputs": [
    {
     "name": "stdout",
     "output_type": "stream",
     "text": [
      "[0, 4, 16, 36, 64]\n",
      "[0, 0, 4, 0, 16, 0, 36, 0, 64, 0]\n"
     ]
    }
   ],
   "source": [
    "# CONDITIONALS ON THE ITERABLE\n",
    "print([num**2 for num in range(10) if num%2 == 0])\n",
    "print([num ** 2 if num % 2 == 0 else 0 for num in range(10)])"
   ]
  },
  {
   "cell_type": "markdown",
   "metadata": {},
   "source": [
    "### Dictionary Comprehensions:\n",
    "\n",
    "- use {} instead of []"
   ]
  },
  {
   "cell_type": "code",
   "execution_count": 9,
   "metadata": {},
   "outputs": [
    {
     "name": "stdout",
     "output_type": "stream",
     "text": [
      "{0: 0, 1: -1, 2: -2, 3: -3, 4: -4, 5: -5, 6: -6, 7: -7, 8: -8}\n",
      "<class 'dict'>\n"
     ]
    }
   ],
   "source": [
    "# DICTIONARY COMPREHENSIONS\n",
    "\n",
    "pos_neg = {num: -num for num in range(9)}\n",
    "print(pos_neg)\n",
    "print(type(pos_neg))"
   ]
  },
  {
   "cell_type": "markdown",
   "metadata": {},
   "source": [
    "### Generator Expressions:\n",
    "\n",
    "- A generator is like a list comprehension except it does not store the list in memory\n",
    "- It does not construct the list, but is an object we can iterate over to produce elements of the list as required\n",
    "- generators return a generator object \n",
    "- Lazy evaluation can be used when working with extremly large sequences as we dont want to store the entire list in memory"
   ]
  },
  {
   "cell_type": "code",
   "execution_count": 16,
   "metadata": {},
   "outputs": [
    {
     "name": "stdout",
     "output_type": "stream",
     "text": [
      "0\n",
      "1\n",
      "2\n",
      "3\n",
      "4\n",
      "5\n",
      "[0, 1, 2, 3, 4, 5]\n",
      "0\n",
      "1\n",
      "2\n",
      "3\n",
      "4\n",
      "5\n",
      "[0, 2, 4, 6, 8]\n"
     ]
    }
   ],
   "source": [
    "# GENERATOR\n",
    "result = (num for num in range(6))\n",
    "for num in result:\n",
    "    print(num)\n",
    "\n",
    "# Creating list from generator\n",
    "result = (num for num in range(6))\n",
    "print(list(result))\n",
    "\n",
    "# LAZY EVALUATION\n",
    "result = (num for num in range(6))\n",
    "print(next(result))\n",
    "print(next(result))\n",
    "print(next(result))\n",
    "print(next(result))\n",
    "print(next(result))\n",
    "print(next(result))\n",
    "\n",
    "# Conditionals in Generators:\n",
    "even_nums = (num for num in range(10) if num%2 == 0)\n",
    "print(list(even_nums))"
   ]
  },
  {
   "cell_type": "markdown",
   "metadata": {},
   "source": [
    "### Generator Functions\n",
    "\n",
    "- Functions that when called, return generator objects\n",
    "- defined like a regular function (using def)\n",
    "- Yields a sequence of values instead of returning a single value\n",
    "- Use the yield keyword"
   ]
  },
  {
   "cell_type": "code",
   "execution_count": 18,
   "metadata": {},
   "outputs": [
    {
     "name": "stdout",
     "output_type": "stream",
     "text": [
      "<class 'generator'>\n",
      "0\n",
      "1\n",
      "2\n",
      "3\n",
      "4\n"
     ]
    }
   ],
   "source": [
    "# GENERATOR FUNCTION:\n",
    "\n",
    "def num_sequence(n):\n",
    "    \"\"\"Generate values from 0 to n\"\"\"\n",
    "    i = 0\n",
    "    while i<n:\n",
    "        yield i\n",
    "        i += 1\n",
    "\n",
    "result = num_sequence(5)\n",
    "print(type(result))\n",
    "for item in result:\n",
    "    print(item)"
   ]
  }
 ],
 "metadata": {
  "kernelspec": {
   "display_name": "Python 3",
   "language": "python",
   "name": "python3"
  },
  "language_info": {
   "codemirror_mode": {
    "name": "ipython",
    "version": 3
   },
   "file_extension": ".py",
   "mimetype": "text/x-python",
   "name": "python",
   "nbconvert_exporter": "python",
   "pygments_lexer": "ipython3",
   "version": "3.12.2"
  }
 },
 "nbformat": 4,
 "nbformat_minor": 2
}
