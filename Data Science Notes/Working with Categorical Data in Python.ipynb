{
 "cells": [
  {
   "cell_type": "markdown",
   "metadata": {},
   "source": [
    "## WORKING WITH CATEGORICAL DATA IN PYTHON\n",
    "\n",
    "- A variable is considered \"Categorical\" if it contains a finite number of distict groups.\n",
    "- It is also known as qualitative data\n",
    "\n",
    "1) Ordinal Data:\n",
    "- Categorical data that has a natural order\n",
    "\n",
    "2) Nominal Data:\n",
    "- Categorical Variables that cannot be placed into a natural order\n",
    "\n",
    "- An \"Object\" Datatype is how pandas stores strings and is a good indicator that the data is a string\n",
    "\n"
   ]
  },
  {
   "cell_type": "code",
   "execution_count": 71,
   "metadata": {},
   "outputs": [
    {
     "name": "stdout",
     "output_type": "stream",
     "text": [
      "<class 'pandas.core.frame.DataFrame'>\n",
      "RangeIndex: 32561 entries, 0 to 32560\n",
      "Data columns (total 15 columns):\n",
      " #   Column          Non-Null Count  Dtype \n",
      "---  ------          --------------  ----- \n",
      " 0   age             32561 non-null  int64 \n",
      " 1   workclass       32561 non-null  object\n",
      " 2   fnlwgt          32561 non-null  int64 \n",
      " 3   education       32561 non-null  object\n",
      " 4   education.num   32561 non-null  int64 \n",
      " 5   marital.status  32561 non-null  object\n",
      " 6   occupation      32561 non-null  object\n",
      " 7   relationship    32561 non-null  object\n",
      " 8   race            32561 non-null  object\n",
      " 9   sex             32561 non-null  object\n",
      " 10  capital.gain    32561 non-null  int64 \n",
      " 11  capital.loss    32561 non-null  int64 \n",
      " 12  hours.per.week  32561 non-null  int64 \n",
      " 13  native.country  32561 non-null  object\n",
      " 14  income          32561 non-null  object\n",
      "dtypes: int64(6), object(9)\n",
      "memory usage: 3.7+ MB\n",
      "None\n",
      "\n",
      "\n",
      "count                  32561\n",
      "unique                     7\n",
      "top       Married-civ-spouse\n",
      "freq                   14976\n",
      "Name: marital.status, dtype: object\n",
      "\n",
      "\n",
      "marital.status\n",
      "Married-civ-spouse       14976\n",
      "Never-married            10683\n",
      "Divorced                  4443\n",
      "Separated                 1025\n",
      "Widowed                    993\n",
      "Married-spouse-absent      418\n",
      "Married-AF-spouse           23\n",
      "Name: count, dtype: int64\n",
      "\n",
      "\n",
      "marital.status\n",
      "Married-civ-spouse       0.459937\n",
      "Never-married            0.328092\n",
      "Divorced                 0.136452\n",
      "Separated                0.031479\n",
      "Widowed                  0.030497\n",
      "Married-spouse-absent    0.012837\n",
      "Married-AF-spouse        0.000706\n",
      "Name: proportion, dtype: float64\n"
     ]
    }
   ],
   "source": [
    "import pandas as pd\n",
    "import numpy as np\n",
    "import matplotlib.pyplot as plt\n",
    "import seaborn as sns\n",
    "\n",
    "adult = pd.read_csv('Datasets/adult.csv')\n",
    "print(adult.info())\n",
    "print(\"\\n\")\n",
    "\n",
    "# Exploring the marital status column in detail\n",
    "print(adult[\"marital.status\"].describe())\n",
    "print(\"\\n\")\n",
    "print(adult[\"marital.status\"].value_counts())\n",
    "# The output will contain RELATIVE FREQUENCIES if we set normalize = True\n",
    "print(\"\\n\")\n",
    "print(adult[\"marital.status\"].value_counts(normalize = True))"
   ]
  },
  {
   "cell_type": "markdown",
   "metadata": {},
   "source": [
    "- Pandas uses \"O\" to represent the Object datatype"
   ]
  },
  {
   "cell_type": "code",
   "execution_count": 72,
   "metadata": {},
   "outputs": [
    {
     "data": {
      "text/plain": [
       "age                int64\n",
       "workclass         object\n",
       "fnlwgt             int64\n",
       "education         object\n",
       "education.num      int64\n",
       "marital.status    object\n",
       "occupation        object\n",
       "relationship      object\n",
       "race              object\n",
       "sex               object\n",
       "capital.gain       int64\n",
       "capital.loss       int64\n",
       "hours.per.week     int64\n",
       "native.country    object\n",
       "income            object\n",
       "dtype: object"
      ]
     },
     "execution_count": 72,
     "metadata": {},
     "output_type": "execute_result"
    }
   ],
   "source": [
    "# Data types of each column\n",
    "adult.dtypes"
   ]
  },
  {
   "cell_type": "code",
   "execution_count": 73,
   "metadata": {},
   "outputs": [
    {
     "name": "stdout",
     "output_type": "stream",
     "text": [
      "object\n",
      "category\n"
     ]
    }
   ],
   "source": [
    "# Using the dtype property on the marital status column as we are working with a series and not a dataframe\n",
    "print(adult[\"marital.status\"].dtype)\n",
    "\n",
    "# Converting it to the Categorcal data type\n",
    "adult[\"marital.status\"] = adult[\"marital.status\"].astype(\"category\")\n",
    "print(adult[\"marital.status\"].dtype)"
   ]
  },
  {
   "cell_type": "code",
   "execution_count": 74,
   "metadata": {},
   "outputs": [
    {
     "name": "stdout",
     "output_type": "stream",
     "text": [
      "0    A\n",
      "1    A\n",
      "2    C\n",
      "3    B\n",
      "4    C\n",
      "5    A\n",
      "dtype: category\n",
      "Categories (3, object): ['A', 'B', 'C']\n"
     ]
    },
    {
     "data": {
      "text/plain": [
       "['A', 'A', 'C', 'B', 'C', 'A']\n",
       "Categories (3, object): ['C' < 'B' < 'A']"
      ]
     },
     "execution_count": 74,
     "metadata": {},
     "output_type": "execute_result"
    }
   ],
   "source": [
    "# Creating a categorical series\n",
    "my_data = [\"A\", \"A\", \"C\", \"B\", \"C\", \"A\"]\n",
    "\n",
    "# METHIOD 1\n",
    "myseries1 = pd.Series(my_data, dtype = \"category\")\n",
    "print(myseries1)\n",
    "\n",
    "# METHOD 2 - This method allows us to show that the categories hav a logical order\n",
    "myseries2 = pd.Categorical(my_data, categories=[\"C\", \"B\", \"A\"], ordered = True)\n",
    "myseries2"
   ]
  },
  {
   "cell_type": "markdown",
   "metadata": {},
   "source": [
    "### Why do we use categorical?\n",
    "\n",
    "- MEMORY\n",
    "- If we know the datatypes of the column before using it, then we should specify them\n",
    "- Steps to specify dtypes when reading data:\n",
    "1) Create a dictionary\n",
    "2) Set the dtype parameter\n"
   ]
  },
  {
   "cell_type": "code",
   "execution_count": 75,
   "metadata": {},
   "outputs": [
    {
     "name": "stdout",
     "output_type": "stream",
     "text": [
      "260488\n",
      "32617\n"
     ]
    }
   ],
   "source": [
    "# Memory used when stored as an object data type\n",
    "adult = pd.read_csv('Datasets/adult.csv')\n",
    "print(adult[\"marital.status\"].nbytes)\n",
    "\n",
    "# Memory used when stored as an categorical data type\n",
    "adult[\"marital.status\"] = adult[\"marital.status\"].astype(\"category\")\n",
    "print(adult[\"marital.status\"].nbytes)"
   ]
  },
  {
   "cell_type": "code",
   "execution_count": 76,
   "metadata": {},
   "outputs": [
    {
     "data": {
      "text/plain": [
       "CategoricalDtype(categories=['Divorced', 'Married-AF-spouse', 'Married-civ-spouse',\n",
       "                  'Married-spouse-absent', 'Never-married', 'Separated',\n",
       "                  'Widowed'],\n",
       ", ordered=False, categories_dtype=object)"
      ]
     },
     "execution_count": 76,
     "metadata": {},
     "output_type": "execute_result"
    }
   ],
   "source": [
    "# SPECIFYING DTYPES WHEN READING DATA\n",
    "\n",
    "# 1)Create a dictionary\n",
    "adult_dtypes = {\"marital.status\":\"category\"}\n",
    "\n",
    "# 2) Set the dtype parameter\n",
    "adult = pd.read_csv('Datasets/adult.csv', dtype=adult_dtypes)\n",
    "adult[\"marital.status\"].dtype"
   ]
  },
  {
   "cell_type": "markdown",
   "metadata": {},
   "source": [
    "### Grouping Data by Category"
   ]
  },
  {
   "cell_type": "code",
   "execution_count": 77,
   "metadata": {},
   "outputs": [
    {
     "ename": "KeyError",
     "evalue": "\"by = ['income']\"",
     "output_type": "error",
     "traceback": [
      "\u001b[1;31m---------------------------------------------------------------------------\u001b[0m",
      "\u001b[1;31mKeyError\u001b[0m                                  Traceback (most recent call last)",
      "Cell \u001b[1;32mIn[77], line 2\u001b[0m\n\u001b[0;32m      1\u001b[0m \u001b[38;5;66;03m# using \"by\" parameter\u001b[39;00m\n\u001b[1;32m----> 2\u001b[0m groupby_object \u001b[38;5;241m=\u001b[39m \u001b[43madult\u001b[49m\u001b[38;5;241;43m.\u001b[39;49m\u001b[43mgroupby\u001b[49m\u001b[43m(\u001b[49m\u001b[38;5;124;43m\"\u001b[39;49m\u001b[38;5;124;43mby = [\u001b[39;49m\u001b[38;5;124;43m'\u001b[39;49m\u001b[38;5;124;43mincome\u001b[39;49m\u001b[38;5;124;43m'\u001b[39;49m\u001b[38;5;124;43m]\u001b[39;49m\u001b[38;5;124;43m\"\u001b[39;49m\u001b[43m)\u001b[49m\n",
      "File \u001b[1;32m~\\AppData\\Local\\Packages\\PythonSoftwareFoundation.Python.3.12_qbz5n2kfra8p0\\LocalCache\\local-packages\\Python312\\site-packages\\pandas\\core\\frame.py:9156\u001b[0m, in \u001b[0;36mDataFrame.groupby\u001b[1;34m(self, by, axis, level, as_index, sort, group_keys, observed, dropna)\u001b[0m\n\u001b[0;32m   9153\u001b[0m \u001b[38;5;28;01mif\u001b[39;00m level \u001b[38;5;129;01mis\u001b[39;00m \u001b[38;5;28;01mNone\u001b[39;00m \u001b[38;5;129;01mand\u001b[39;00m by \u001b[38;5;129;01mis\u001b[39;00m \u001b[38;5;28;01mNone\u001b[39;00m:\n\u001b[0;32m   9154\u001b[0m     \u001b[38;5;28;01mraise\u001b[39;00m \u001b[38;5;167;01mTypeError\u001b[39;00m(\u001b[38;5;124m\"\u001b[39m\u001b[38;5;124mYou have to supply one of \u001b[39m\u001b[38;5;124m'\u001b[39m\u001b[38;5;124mby\u001b[39m\u001b[38;5;124m'\u001b[39m\u001b[38;5;124m and \u001b[39m\u001b[38;5;124m'\u001b[39m\u001b[38;5;124mlevel\u001b[39m\u001b[38;5;124m'\u001b[39m\u001b[38;5;124m\"\u001b[39m)\n\u001b[1;32m-> 9156\u001b[0m \u001b[38;5;28;01mreturn\u001b[39;00m \u001b[43mDataFrameGroupBy\u001b[49m\u001b[43m(\u001b[49m\n\u001b[0;32m   9157\u001b[0m \u001b[43m    \u001b[49m\u001b[43mobj\u001b[49m\u001b[38;5;241;43m=\u001b[39;49m\u001b[38;5;28;43mself\u001b[39;49m\u001b[43m,\u001b[49m\n\u001b[0;32m   9158\u001b[0m \u001b[43m    \u001b[49m\u001b[43mkeys\u001b[49m\u001b[38;5;241;43m=\u001b[39;49m\u001b[43mby\u001b[49m\u001b[43m,\u001b[49m\n\u001b[0;32m   9159\u001b[0m \u001b[43m    \u001b[49m\u001b[43maxis\u001b[49m\u001b[38;5;241;43m=\u001b[39;49m\u001b[43maxis\u001b[49m\u001b[43m,\u001b[49m\n\u001b[0;32m   9160\u001b[0m \u001b[43m    \u001b[49m\u001b[43mlevel\u001b[49m\u001b[38;5;241;43m=\u001b[39;49m\u001b[43mlevel\u001b[49m\u001b[43m,\u001b[49m\n\u001b[0;32m   9161\u001b[0m \u001b[43m    \u001b[49m\u001b[43mas_index\u001b[49m\u001b[38;5;241;43m=\u001b[39;49m\u001b[43mas_index\u001b[49m\u001b[43m,\u001b[49m\n\u001b[0;32m   9162\u001b[0m \u001b[43m    \u001b[49m\u001b[43msort\u001b[49m\u001b[38;5;241;43m=\u001b[39;49m\u001b[43msort\u001b[49m\u001b[43m,\u001b[49m\n\u001b[0;32m   9163\u001b[0m \u001b[43m    \u001b[49m\u001b[43mgroup_keys\u001b[49m\u001b[38;5;241;43m=\u001b[39;49m\u001b[43mgroup_keys\u001b[49m\u001b[43m,\u001b[49m\n\u001b[0;32m   9164\u001b[0m \u001b[43m    \u001b[49m\u001b[43mobserved\u001b[49m\u001b[38;5;241;43m=\u001b[39;49m\u001b[43mobserved\u001b[49m\u001b[43m,\u001b[49m\n\u001b[0;32m   9165\u001b[0m \u001b[43m    \u001b[49m\u001b[43mdropna\u001b[49m\u001b[38;5;241;43m=\u001b[39;49m\u001b[43mdropna\u001b[49m\u001b[43m,\u001b[49m\n\u001b[0;32m   9166\u001b[0m \u001b[43m\u001b[49m\u001b[43m)\u001b[49m\n",
      "File \u001b[1;32m~\\AppData\\Local\\Packages\\PythonSoftwareFoundation.Python.3.12_qbz5n2kfra8p0\\LocalCache\\local-packages\\Python312\\site-packages\\pandas\\core\\groupby\\groupby.py:1329\u001b[0m, in \u001b[0;36mGroupBy.__init__\u001b[1;34m(self, obj, keys, axis, level, grouper, exclusions, selection, as_index, sort, group_keys, observed, dropna)\u001b[0m\n\u001b[0;32m   1326\u001b[0m \u001b[38;5;28mself\u001b[39m\u001b[38;5;241m.\u001b[39mdropna \u001b[38;5;241m=\u001b[39m dropna\n\u001b[0;32m   1328\u001b[0m \u001b[38;5;28;01mif\u001b[39;00m grouper \u001b[38;5;129;01mis\u001b[39;00m \u001b[38;5;28;01mNone\u001b[39;00m:\n\u001b[1;32m-> 1329\u001b[0m     grouper, exclusions, obj \u001b[38;5;241m=\u001b[39m \u001b[43mget_grouper\u001b[49m\u001b[43m(\u001b[49m\n\u001b[0;32m   1330\u001b[0m \u001b[43m        \u001b[49m\u001b[43mobj\u001b[49m\u001b[43m,\u001b[49m\n\u001b[0;32m   1331\u001b[0m \u001b[43m        \u001b[49m\u001b[43mkeys\u001b[49m\u001b[43m,\u001b[49m\n\u001b[0;32m   1332\u001b[0m \u001b[43m        \u001b[49m\u001b[43maxis\u001b[49m\u001b[38;5;241;43m=\u001b[39;49m\u001b[43maxis\u001b[49m\u001b[43m,\u001b[49m\n\u001b[0;32m   1333\u001b[0m \u001b[43m        \u001b[49m\u001b[43mlevel\u001b[49m\u001b[38;5;241;43m=\u001b[39;49m\u001b[43mlevel\u001b[49m\u001b[43m,\u001b[49m\n\u001b[0;32m   1334\u001b[0m \u001b[43m        \u001b[49m\u001b[43msort\u001b[49m\u001b[38;5;241;43m=\u001b[39;49m\u001b[43msort\u001b[49m\u001b[43m,\u001b[49m\n\u001b[0;32m   1335\u001b[0m \u001b[43m        \u001b[49m\u001b[43mobserved\u001b[49m\u001b[38;5;241;43m=\u001b[39;49m\u001b[38;5;28;43;01mFalse\u001b[39;49;00m\u001b[43m \u001b[49m\u001b[38;5;28;43;01mif\u001b[39;49;00m\u001b[43m \u001b[49m\u001b[43mobserved\u001b[49m\u001b[43m \u001b[49m\u001b[38;5;129;43;01mis\u001b[39;49;00m\u001b[43m \u001b[49m\u001b[43mlib\u001b[49m\u001b[38;5;241;43m.\u001b[39;49m\u001b[43mno_default\u001b[49m\u001b[43m \u001b[49m\u001b[38;5;28;43;01melse\u001b[39;49;00m\u001b[43m \u001b[49m\u001b[43mobserved\u001b[49m\u001b[43m,\u001b[49m\n\u001b[0;32m   1336\u001b[0m \u001b[43m        \u001b[49m\u001b[43mdropna\u001b[49m\u001b[38;5;241;43m=\u001b[39;49m\u001b[38;5;28;43mself\u001b[39;49m\u001b[38;5;241;43m.\u001b[39;49m\u001b[43mdropna\u001b[49m\u001b[43m,\u001b[49m\n\u001b[0;32m   1337\u001b[0m \u001b[43m    \u001b[49m\u001b[43m)\u001b[49m\n\u001b[0;32m   1339\u001b[0m \u001b[38;5;28;01mif\u001b[39;00m observed \u001b[38;5;129;01mis\u001b[39;00m lib\u001b[38;5;241m.\u001b[39mno_default:\n\u001b[0;32m   1340\u001b[0m     \u001b[38;5;28;01mif\u001b[39;00m \u001b[38;5;28many\u001b[39m(ping\u001b[38;5;241m.\u001b[39m_passed_categorical \u001b[38;5;28;01mfor\u001b[39;00m ping \u001b[38;5;129;01min\u001b[39;00m grouper\u001b[38;5;241m.\u001b[39mgroupings):\n",
      "File \u001b[1;32m~\\AppData\\Local\\Packages\\PythonSoftwareFoundation.Python.3.12_qbz5n2kfra8p0\\LocalCache\\local-packages\\Python312\\site-packages\\pandas\\core\\groupby\\grouper.py:1043\u001b[0m, in \u001b[0;36mget_grouper\u001b[1;34m(obj, key, axis, level, sort, observed, validate, dropna)\u001b[0m\n\u001b[0;32m   1041\u001b[0m         in_axis, level, gpr \u001b[38;5;241m=\u001b[39m \u001b[38;5;28;01mFalse\u001b[39;00m, gpr, \u001b[38;5;28;01mNone\u001b[39;00m\n\u001b[0;32m   1042\u001b[0m     \u001b[38;5;28;01melse\u001b[39;00m:\n\u001b[1;32m-> 1043\u001b[0m         \u001b[38;5;28;01mraise\u001b[39;00m \u001b[38;5;167;01mKeyError\u001b[39;00m(gpr)\n\u001b[0;32m   1044\u001b[0m \u001b[38;5;28;01melif\u001b[39;00m \u001b[38;5;28misinstance\u001b[39m(gpr, Grouper) \u001b[38;5;129;01mand\u001b[39;00m gpr\u001b[38;5;241m.\u001b[39mkey \u001b[38;5;129;01mis\u001b[39;00m \u001b[38;5;129;01mnot\u001b[39;00m \u001b[38;5;28;01mNone\u001b[39;00m:\n\u001b[0;32m   1045\u001b[0m     \u001b[38;5;66;03m# Add key to exclusions\u001b[39;00m\n\u001b[0;32m   1046\u001b[0m     exclusions\u001b[38;5;241m.\u001b[39madd(gpr\u001b[38;5;241m.\u001b[39mkey)\n",
      "\u001b[1;31mKeyError\u001b[0m: \"by = ['income']\""
     ]
    }
   ],
   "source": [
    "# using \"by\" parameter\n",
    "groupby_object = adult.groupby(\"by = ['income']\")"
   ]
  },
  {
   "cell_type": "markdown",
   "metadata": {},
   "source": [
    "### Setting Category Variables\n",
    "\n",
    "- "
   ]
  },
  {
   "cell_type": "code",
   "execution_count": null,
   "metadata": {},
   "outputs": [
    {
     "name": "stdout",
     "output_type": "stream",
     "text": [
      "<class 'pandas.core.frame.DataFrame'>\n",
      "RangeIndex: 2937 entries, 0 to 2936\n",
      "Data columns (total 19 columns):\n",
      " #   Column             Non-Null Count  Dtype  \n",
      "---  ------             --------------  -----  \n",
      " 0   ID                 2937 non-null   int64  \n",
      " 1   name               2845 non-null   object \n",
      " 2   age                2937 non-null   float64\n",
      " 3   sex                2937 non-null   object \n",
      " 4   breed              2937 non-null   object \n",
      " 5   date_found         2937 non-null   object \n",
      " 6   adoptable_from     2937 non-null   object \n",
      " 7   posted             2937 non-null   object \n",
      " 8   color              2937 non-null   object \n",
      " 9   coat               2937 non-null   object \n",
      " 10  size               2937 non-null   object \n",
      " 11  neutered           1852 non-null   object \n",
      " 12  housebroken        460 non-null    object \n",
      " 13  likes_people       1999 non-null   object \n",
      " 14  likes_children     1219 non-null   object \n",
      " 15  get_along_males    1633 non-null   object \n",
      " 16  get_along_females  1673 non-null   object \n",
      " 17  get_along_cats     431 non-null    object \n",
      " 18  keep_in            1916 non-null   object \n",
      "dtypes: float64(1), int64(1), object(17)\n",
      "memory usage: 436.1+ KB\n"
     ]
    }
   ],
   "source": [
    "dogs = pd.read_csv(\"Datasets/ShelterDogs.csv\")\n",
    "dogs.info()"
   ]
  },
  {
   "attachments": {
    "image.png": {
     "image/png": "[encoded data removed]"
    }
   },
   "cell_type": "markdown",
   "metadata": {},
   "source": [
    "### Setting Category Variables\n",
    "\n",
    "- using the .cat accessor variable to access and manipulate the categories of the categorical variables\n",
    "\n",
    "![image.png](attachment:image.png)\n",
    "\n"
   ]
  },
  {
   "cell_type": "code",
   "execution_count": null,
   "metadata": {},
   "outputs": [
    {
     "name": "stdout",
     "output_type": "stream",
     "text": [
      "coat\n",
      "short     1972\n",
      "medium     565\n",
      "NaN        220\n",
      "long       180\n",
      "Name: count, dtype: int64\n",
      "coat\n",
      "short     1972\n",
      "medium     565\n",
      "NaN        220\n",
      "long       180\n",
      "Name: count, dtype: int64\n"
     ]
    },
    {
     "data": {
      "text/plain": [
       "0    short\n",
       "1    short\n",
       "2    short\n",
       "Name: coat, dtype: category\n",
       "Categories (3, object): ['short' < 'medium' < 'long']"
      ]
     },
     "execution_count": 59,
     "metadata": {},
     "output_type": "execute_result"
    }
   ],
   "source": [
    "# Converting the coat variable to category and checking its frequency distribution\n",
    "dogs[\"coat\"] = dogs[\"coat\"].astype(\"category\")\n",
    "print(dogs[\"coat\"].value_counts(dropna=False))\n",
    "# cat.set_categories parameter is used to set specific categories\n",
    "dogs[\"coat\"] = dogs[\"coat\"].cat.set_categories(new_categories=[\"short\", \"medium\", \"long\"], ordered=True)\n",
    "print(dogs[\"coat\"].value_counts(dropna = False))\n",
    "dogs['coat'].head(3)"
   ]
  },
  {
   "cell_type": "code",
   "execution_count": null,
   "metadata": {},
   "outputs": [],
   "source": [
    "# MISSING CATEGORIES\n",
    "\n",
    "dogs['likes_people'].value_counts(dropna=False)\n",
    "\n",
    "# Adding categoriess\n",
    "dogs['likes_people'] = dogs['likes_people'].astype(\"category\")\n",
    "dogs['likes_people'] = dogs['likes_people'].cat.add_categories(new_categories=[\"did not check\", \"could not tell\"])\n",
    "print(dogs['likes_people'].cat.categories)\n",
    "\n",
    "# Removing categories\n",
    "dogs['likes_people'] = dogs['likes_people'].cat.remove_categories(removals=[\"wirehaired\"])\n",
    "print(dogs['likes_people'].cat.categories)\n"
   ]
  },
  {
   "cell_type": "markdown",
   "metadata": {},
   "source": [
    "### Updating Categories\n",
    "\n",
    "Common Replacement issues:\n",
    "- must use new category names\n",
    "- cannot collapse two categories into one using the rename_categories method\n",
    "\n",
    "Collapsing Categories\n",
    "- The .replace method does not preserve the categorical data type. The data type of the new column is an object data type and not category\n"
   ]
  },
  {
   "cell_type": "code",
   "execution_count": 83,
   "metadata": {},
   "outputs": [
    {
     "name": "stdout",
     "output_type": "stream",
     "text": [
      "breed\n",
      "Unknown                                     1524\n",
      "German Shepherd Dog Mix                      190\n",
      "Dachshund Mix                                147\n",
      "Labrador Retriever Mix                        83\n",
      "Staffordshire Terrier Mix                     62\n",
      "                                            ... \n",
      "English Cocker Spaniel, Vizsla Mix             1\n",
      "English Greyhound Mix                          1\n",
      "English Greyhound, Spanish Greyhound Mix       1\n",
      "Fox Terrier, German Shepherd Dog Mix           1\n",
      "Yorkshire Terrier                              1\n",
      "Name: count, Length: 277, dtype: int64\n",
      "\n",
      " breed\n",
      "Unknown                                     1524\n",
      "German Shepherd Dog Mix                      190\n",
      "Dachshund Mix                                147\n",
      "Labrador Retriever Mix                        83\n",
      "Staffordshire Terrier Mix                     62\n",
      "                                            ... \n",
      "English Cocker Spaniel, Vizsla Mix             1\n",
      "English Greyhound Mix                          1\n",
      "English Greyhound, Spanish Greyhound Mix       1\n",
      "Fox Terrier, German Shepherd Dog Mix           1\n",
      "Yorkshire Terrier                              1\n",
      "Name: count, Length: 277, dtype: int64\n",
      "\n",
      " Index(['Female', 'Male'], dtype='object')\n",
      "Index(['apricot', 'black', 'black and brown', 'black and tan',\n",
      "       'black and white', 'brown', 'brown and white', 'dotted', 'golden',\n",
      "       'gray', 'gray and black', 'gray and white', 'red', 'red and white',\n",
      "       'sable', 'saddle back', 'spotty', 'striped', 'tricolor', 'white',\n",
      "       'wild boar', 'yellow', 'yellow-brown'],\n",
      "      dtype='object')\n"
     ]
    }
   ],
   "source": [
    "# UPDATING CATEGORIES\n",
    "dogs['breed'] = dogs['breed'].astype(\"category\")\n",
    "print(dogs['breed'].value_counts())\n",
    "\n",
    "# Renaming categories\n",
    "# Syntax: Series.cat.rename_categories(new_categories = dict)\n",
    "# 1) make a dictionary\n",
    "my_changes = {\"Unknown Mix\" : \"Unknown\"}\n",
    "# 2) Rename the category\n",
    "dogs['breed'] = dogs['breed'].cat.rename_categories(my_changes)\n",
    "print(\"\\n\", dogs['breed'].value_counts())\n",
    "\n",
    "# Renaming categories with a function\n",
    "dogs['sex'] = dogs['sex'].astype(\"category\")\n",
    "dogs['sex'] = dogs['sex'].cat.rename_categories(lambda c:c.title())\n",
    "print(\"\\n\", dogs['sex'].cat.categories)\n",
    "\n",
    "# Collapsing categories\n",
    "dogs['color'] = dogs['color'].astype(\"category\")\n",
    "print(dogs['color'].cat.categories)\n",
    "# 1) craete a dictionary and use .replace \n",
    "update_colors = {\n",
    "    \"black and brown\" : \"black\",\n",
    "    \"black and tan\" : \"black\",\n",
    "    \"black and white\" : \"black\"\n",
    "}\n",
    "dogs['main color'] = dogs['color'].replace(update_colors)\n",
    "dogs['main color'] = dogs['main color'].astype(\"category\")\n",
    "dogs['main color'].cat.categories"
   ]
  },
  {
   "cell_type": "markdown",
   "metadata": {},
   "source": [
    "### Redordering Categories\n",
    "\n",
    "- We may reorder the variables so that the analysis are displayed in a certain order\n"
   ]
  },
  {
   "cell_type": "code",
   "execution_count": null,
   "metadata": {},
   "outputs": [],
   "source": [
    "# REORDERING VARIABLES\n",
    "dogs['coat'] = dogs['coat'].cat.reorder_categories(new_categories=['short', 'medium', 'wirehaired', 'long'], ordered = True)\n",
    "# Using the inplace method\n",
    "dogs['coat'].cat.reorder_categories(new_categories=['short', 'medium', 'wirehaired', 'long'], ordered = True, inplace = True)"
   ]
  },
  {
   "cell_type": "markdown",
   "metadata": {},
   "source": [
    "### Cleaning and accessing data\n",
    "\n",
    "Possible Issues with Categorical Data:\n",
    "1) inconsistent values:\n",
    "- eg: \"Ham\", \"ham\", \" Ham\"\n",
    "2) Mispelled values:\n",
    "- eg: \"hma\", \"Hma\"\n",
    "3) Wrong datatype for the column i.e. the column is not category data type\n",
    "\n",
    "Identifying Issues:\n",
    "- use either Series.cat.categories to see all categories or Series.value_counts()"
   ]
  },
  {
   "cell_type": "code",
   "execution_count": 84,
   "metadata": {},
   "outputs": [
    {
     "data": {
      "text/plain": [
       "get_along_cats\n",
       "yes    275\n",
       "no     156\n",
       "Name: count, dtype: int64"
      ]
     },
     "execution_count": 84,
     "metadata": {},
     "output_type": "execute_result"
    }
   ],
   "source": [
    "# Identifying issues in categorical data\n",
    "dogs['get_along_cats'].value_counts()"
   ]
  },
  {
   "cell_type": "markdown",
   "metadata": {},
   "source": [
    "### Fixing Issues\n",
    "\n",
    "1) Removing Whitespace\n",
    "dogs['get_along_cats'] = dogs['get_along_cats'].str.strip()\n",
    "\n",
    "2) Capitalization\n",
    "dogs['get_along_cats'] = dogs['get_along_cats'].str.title()\n",
    "\n",
    "\n",
    "3) Mispelled Words\n",
    "- fixing with .replace\n",
    "- The column will be converted to an object datatype"
   ]
  },
  {
   "cell_type": "code",
   "execution_count": null,
   "metadata": {},
   "outputs": [],
   "source": [
    "# 1) Removing Whitespace\n",
    "dogs['get_along_cats'] = dogs['get_along_cats'].str.strip()\n",
    "\n",
    "# 2) Capitalization\n",
    "dogs['get_along_cats'] = dogs['get_along_cats'].str.title()\n",
    "\n",
    "# 3) Mispelled Words\n",
    "replace_map = {\"Noo\" : \"No\"}\n",
    "dogs['get_along_cats'].replace(replace_map, inplace=True)\n",
    "dogs['get_along_cats'] = dogs['get_along_cats'].astype('category')"
   ]
  },
  {
   "cell_type": "markdown",
   "metadata": {},
   "source": [
    "### Using the str accessor object\n",
    "\n",
    "- Searching for a string"
   ]
  },
  {
   "cell_type": "code",
   "execution_count": 87,
   "metadata": {},
   "outputs": [
    {
     "data": {
      "text/plain": [
       "Series([], Name: count, dtype: int64)"
      ]
     },
     "execution_count": 87,
     "metadata": {},
     "output_type": "execute_result"
    }
   ],
   "source": [
    "# Searching for a string\n",
    "# We set the regex(regular expression) to false so that we use string matching and not regular expression\n",
    "dogs['breed'].str.contains(\"Shepherd\", regex = False)\n",
    "\n",
    "# Accessing data with loc\n",
    "dogs.loc[dogs['get_along_cats'] == \"Yes\", \"size\"].value_counts(sort = False)"
   ]
  }
 ],
 "metadata": {
  "kernelspec": {
   "display_name": "Python 3",
   "language": "python",
   "name": "python3"
  },
  "language_info": {
   "codemirror_mode": {
    "name": "ipython",
    "version": 3
   },
   "file_extension": ".py",
   "mimetype": "text/x-python",
   "name": "python",
   "nbconvert_exporter": "python",
   "pygments_lexer": "ipython3",
   "version": "3.12.2"
  }
 },
 "nbformat": 4,
 "nbformat_minor": 2
}
