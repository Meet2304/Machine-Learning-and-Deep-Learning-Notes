{
 "cells": [
  {
   "cell_type": "markdown",
   "metadata": {},
   "source": [
    "**OBJECT ORIENTED PROGRAMMING**\n",
    "\n",
    "- OOP is a way of writing computer programs where we create \"objects\"(like virtual entities) each with abilities(called methods) and data(called attributes)\n",
    "- init method is implemented inside the class definition "
   ]
  },
  {
   "cell_type": "code",
   "execution_count": 6,
   "metadata": {},
   "outputs": [
    {
     "name": "stdout",
     "output_type": "stream",
     "text": [
      "Bank Account Balance: 100\n",
      "Bank Account Balance after depositing amount: 150\n"
     ]
    }
   ],
   "source": [
    "# Object Oriented Programming\n",
    "class BankAccount:\n",
    "    def __init__(self, balance):\n",
    "        self.balance = balance\n",
    "#Deposit method increases balance\n",
    "    def deposit(self, amount):\n",
    "        self.balance += amount\n",
    "\n",
    "account = BankAccount(100)\n",
    "print(\"Bank Account Balance:\", account.balance)\n",
    "account.deposit(50)\n",
    "print(\"Bank Account Balance after depositing amount:\", account.balance)"
   ]
  },
  {
   "cell_type": "code",
   "execution_count": null,
   "metadata": {},
   "outputs": [],
   "source": [
    "from torch.utils.data import Dataset\n",
    "import pandas as pd\n",
    "\n",
    "class WaterDataset(Dataset):\n",
    "    def __init__(self, csv_path):\n",
    "        super().__init__()              # Ensures WaterDataSet behaves like a torch dataset \n",
    "        df = pd.read_csv(csv_path)\n",
    "        self.data = df.to_numpy()\n",
    "    \n",
    "    def __len__(self):\n",
    "        return self.data.shape[0]\n",
    "    \n",
    "    def __getitem__(self, idx):\n",
    "        features = self.data[idx, :-1]  # Returns all columns of the row indexed idx, excluding the last column\n",
    "        label = self.data[idx, -1]      # Returns the last column for the row indexed idx\n",
    "        return features, label\n",
    "\n",
    "dataset_train = WaterDataset(\"water_train.csv\")\n",
    "from torch.utils.data import DataLoader\n",
    "dataloader_train = DataLoader(\n",
    "    dataset_train,\n",
    "    batch_size=2,\n",
    "    shuffle=True\n",
    ")\n",
    "\n",
    "features, labels = next(iter(dataloader_train))\n",
    "print(f\"Features: {features}, \\nLabels: {labels}\")\n"
   ]
  },
  {
   "cell_type": "code",
   "execution_count": null,
   "metadata": {},
   "outputs": [],
   "source": [
    "import torch.nn as nn\n",
    "# SEQUENTIAL MODEL DEFINITION\n",
    "net = nn.Sequential(\n",
    "    nn.Linear(9, 16),\n",
    "    nn.ReLU(),\n",
    "    nn.Linear(16, 8),\n",
    "    nn.ReLU(),\n",
    "    nn.Linear(8,1)\n",
    ")\n",
    "\n",
    "# CLASS BASED MODEL DEFINITION\n",
    "class net(nn.module):\n",
    "    def __init__(self):\n",
    "        super(Net, self).__init__()\n",
    "        self.fc1 = nn.Linear(9, 16)\n",
    "        self.fc1 = nn.Linear(16, 8)\n",
    "        self.fc1 = nn.Linear(8, 1)\n",
    "        \n",
    "    def forward(self, x):\n",
    "        x = nn.functional.relu(self.fc1(x))\n",
    "        x = nn.functional.relu(self.fc2(x))\n",
    "        x = nn.functional.sigmoid(self.fc1(x))\n",
    "        return x\n",
    "\n",
    "net = Net()"
   ]
  },
  {
   "cell_type": "code",
   "execution_count": null,
   "metadata": {},
   "outputs": [],
   "source": []
  }
 ],
 "metadata": {
  "kernelspec": {
   "display_name": "Python 3",
   "language": "python",
   "name": "python3"
  },
  "language_info": {
   "codemirror_mode": {
    "name": "ipython",
    "version": 3
   },
   "file_extension": ".py",
   "mimetype": "text/x-python",
   "name": "python",
   "nbconvert_exporter": "python",
   "pygments_lexer": "ipython3",
   "version": "3.12.2"
  }
 },
 "nbformat": 4,
 "nbformat_minor": 2
}
